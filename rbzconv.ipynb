{
 "cells": [
  {
   "cell_type": "code",
   "execution_count": 15,
   "metadata": {
    "collapsed": false
   },
   "outputs": [],
   "source": [
    "import numpy as np\n",
    "import h5py\n",
    "import scipy.io\n",
    "np.random.seed(1337) # for reproducibility\n",
    "import matplotlib.pyplot as plt\n",
    "\n",
    "from keras.preprocessing import sequence\n",
    "from keras.optimizers import RMSprop, Adam, SGD\n",
    "from keras.models import Sequential\n",
    "from keras.layers.core import Dense, Dropout, Activation, Flatten\n",
    "from keras.layers.convolutional import Convolution1D, MaxPooling1D\n",
    "from keras.regularizers import l2, activity_l1\n",
    "from keras.constraints import maxnorm\n",
    "from keras.layers.recurrent import LSTM, GRU\n",
    "from keras.callbacks import ModelCheckpoint, EarlyStopping\n",
    "from keras import initializations\n"
   ]
  },
  {
   "cell_type": "code",
   "execution_count": 22,
   "metadata": {
    "collapsed": false
   },
   "outputs": [
    {
     "name": "stdout",
     "output_type": "stream",
     "text": [
      "loading data\n"
     ]
    }
   ],
   "source": [
    "print 'loading data'\n",
    "validmat = scipy.io.loadmat('validALLcontinuous.mat')\n",
    "testmat = scipy.io.loadmat('testALLcontinuous.mat')\n",
    "\n",
    "trainmat = scipy.io.loadmat('trainALLcontinuous.mat')"
   ]
  },
  {
   "cell_type": "code",
   "execution_count": 23,
   "metadata": {
    "collapsed": false
   },
   "outputs": [
    {
     "name": "stdout",
     "output_type": "stream",
     "text": [
      "(23961, 4, 113)\n",
      "(23961,)\n"
     ]
    }
   ],
   "source": [
    "X_train = np.transpose(np.array(trainmat['tr'][0][0][0]),axes=(0,2,1))\n",
    "y_train = np.array(trainmat['tr'][0][0][1]).squeeze()\n",
    "\n",
    "print X_train.shape\n",
    "print y_train.shape\n"
   ]
  },
  {
   "cell_type": "code",
   "execution_count": 27,
   "metadata": {
    "collapsed": false
   },
   "outputs": [
    {
     "name": "stdout",
     "output_type": "stream",
     "text": [
      "building model\n"
     ]
    }
   ],
   "source": [
    "\n",
    "print 'building model'\n",
    "model = Sequential()\n",
    "model.add(Convolution1D(32, 25, border_mode='same', input_shape=(4, 113)))\n",
    "model.add(Activation('relu'))\n",
    "model.add(Convolution1D(32, 25, border_mode='same'))\n",
    "model.add(Activation('relu'))\n",
    "model.add(Convolution1D(32, 25, border_mode='same'))\n",
    "model.add(Activation('relu'))\n",
    "model.add(Flatten())\n",
    "\n",
    "model.add(Dense(input_dim=113, output_dim=1))\n",
    "# model.add(Activation('softmax'))"
   ]
  },
  {
   "cell_type": "code",
   "execution_count": 28,
   "metadata": {
    "collapsed": false
   },
   "outputs": [
    {
     "name": "stdout",
     "output_type": "stream",
     "text": [
      "compiling model\n"
     ]
    }
   ],
   "source": [
    "print 'compiling model'\n",
    "lr = 1e-5#learning rate\n",
    "reg = 1e-6\n",
    "adam = Adam(lr=lr, beta_1=0.9, beta_2=0.999, epsilon=1e-08, decay=0.0005)\n",
    "\n",
    "model.compile(loss='mse', optimizer='adam', metrics=[\"mse\"])\n"
   ]
  },
  {
   "cell_type": "code",
   "execution_count": 29,
   "metadata": {
    "collapsed": false,
    "scrolled": true
   },
   "outputs": [
    {
     "name": "stdout",
     "output_type": "stream",
     "text": [
      "running at most 60 epochs\n",
      "Train on 23961 samples, validate on 2995 samples\n",
      "Epoch 1/60\n",
      "23936/23961 [============================>.] - ETA: 0s - loss: 0.9781 - mean_squared_error: 0.9781Epoch 00000: val_loss improved from inf to 1.02069, saving model to bestmodel.hdf5\n",
      "23961/23961 [==============================] - 10s - loss: 0.9783 - mean_squared_error: 0.9783 - val_loss: 1.0207 - val_mean_squared_error: 1.0207\n",
      "Epoch 2/60\n",
      "23936/23961 [============================>.] - ETA: 0s - loss: 0.9561 - mean_squared_error: 0.9561Epoch 00001: val_loss improved from 1.02069 to 1.01673, saving model to bestmodel.hdf5\n",
      "23961/23961 [==============================] - 10s - loss: 0.9559 - mean_squared_error: 0.9559 - val_loss: 1.0167 - val_mean_squared_error: 1.0167\n",
      "Epoch 3/60\n",
      "23936/23961 [============================>.] - ETA: 0s - loss: 0.9405 - mean_squared_error: 0.9405Epoch 00002: val_loss improved from 1.01673 to 1.01647, saving model to bestmodel.hdf5\n",
      "23961/23961 [==============================] - 10s - loss: 0.9406 - mean_squared_error: 0.9406 - val_loss: 1.0165 - val_mean_squared_error: 1.0165\n",
      "Epoch 4/60\n",
      "23936/23961 [============================>.] - ETA: 0s - loss: 0.9131 - mean_squared_error: 0.9131Epoch 00003: val_loss did not improve\n",
      "23961/23961 [==============================] - 11s - loss: 0.9128 - mean_squared_error: 0.9128 - val_loss: 1.0386 - val_mean_squared_error: 1.0386\n",
      "Epoch 5/60\n",
      "23936/23961 [============================>.] - ETA: 0s - loss: 0.8641 - mean_squared_error: 0.8641Epoch 00004: val_loss did not improve\n",
      "23961/23961 [==============================] - 10s - loss: 0.8646 - mean_squared_error: 0.8646 - val_loss: 1.0545 - val_mean_squared_error: 1.0545\n",
      "Epoch 6/60\n",
      "23936/23961 [============================>.] - ETA: 0s - loss: 0.7971 - mean_squared_error: 0.7971Epoch 00005: val_loss did not improve\n",
      "23961/23961 [==============================] - 11s - loss: 0.7968 - mean_squared_error: 0.7968 - val_loss: 1.1084 - val_mean_squared_error: 1.1084\n",
      "Epoch 00005: early stopping\n"
     ]
    },
    {
     "data": {
      "text/plain": [
       "<keras.callbacks.History at 0x11d698350>"
      ]
     },
     "execution_count": 29,
     "metadata": {},
     "output_type": "execute_result"
    }
   ],
   "source": [
    "print 'running at most 60 epochs'\n",
    "\n",
    "checkpointer = ModelCheckpoint(filepath=\"bestmodel.hdf5\", verbose=1, save_best_only=True)\n",
    "earlystopper = EarlyStopping(monitor='val_loss', patience=2, verbose=1)\n",
    "\n",
    "model.fit(X_train, y_train, batch_size=128, nb_epoch=60,  validation_data=(np.transpose(validmat['v'][0][0][0],axes=(0,2,1)), validmat['v'][0][0][1]), callbacks=[checkpointer,earlystopper])\n"
   ]
  },
  {
   "cell_type": "code",
   "execution_count": 8,
   "metadata": {
    "collapsed": false
   },
   "outputs": [
    {
     "name": "stdout",
     "output_type": "stream",
     "text": [
      "____________________________________________________________________________________________________\n",
      "Layer (type)                     Output Shape          Param #     Connected to                     \n",
      "====================================================================================================\n",
      "convolution1d_1 (Convolution1D)  (None, 4, 32)         90432       convolution1d_input_1[0][0]      \n",
      "____________________________________________________________________________________________________\n",
      "activation_1 (Activation)        (None, 4, 32)         0           convolution1d_1[0][0]            \n",
      "____________________________________________________________________________________________________\n",
      "convolution1d_2 (Convolution1D)  (None, 4, 32)         25632       activation_1[0][0]               \n",
      "____________________________________________________________________________________________________\n",
      "activation_2 (Activation)        (None, 4, 32)         0           convolution1d_2[0][0]            \n",
      "____________________________________________________________________________________________________\n",
      "convolution1d_3 (Convolution1D)  (None, 4, 32)         25632       activation_2[0][0]               \n",
      "____________________________________________________________________________________________________\n",
      "activation_3 (Activation)        (None, 4, 32)         0           convolution1d_3[0][0]            \n",
      "____________________________________________________________________________________________________\n",
      "flatten_1 (Flatten)              (None, 128)           0           activation_3[0][0]               \n",
      "____________________________________________________________________________________________________\n",
      "dense_1 (Dense)                  (None, 1)             129         flatten_1[0][0]                  \n",
      "____________________________________________________________________________________________________\n",
      "activation_4 (Activation)        (None, 1)             0           dense_1[0][0]                    \n",
      "====================================================================================================\n",
      "Total params: 141825\n",
      "____________________________________________________________________________________________________\n"
     ]
    }
   ],
   "source": [
    "model.summary()"
   ]
  },
  {
   "cell_type": "code",
   "execution_count": null,
   "metadata": {
    "collapsed": true
   },
   "outputs": [],
   "source": []
  },
  {
   "cell_type": "code",
   "execution_count": null,
   "metadata": {
    "collapsed": true
   },
   "outputs": [],
   "source": []
  }
 ],
 "metadata": {
  "anaconda-cloud": {},
  "kernelspec": {
   "display_name": "Python [Root]",
   "language": "python",
   "name": "Python [Root]"
  },
  "language_info": {
   "codemirror_mode": {
    "name": "ipython",
    "version": 2
   },
   "file_extension": ".py",
   "mimetype": "text/x-python",
   "name": "python",
   "nbconvert_exporter": "python",
   "pygments_lexer": "ipython2",
   "version": "2.7.12"
  }
 },
 "nbformat": 4,
 "nbformat_minor": 0
}

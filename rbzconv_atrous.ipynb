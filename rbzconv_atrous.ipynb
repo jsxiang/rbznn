{
 "cells": [
  {
   "cell_type": "code",
   "execution_count": 1,
   "metadata": {
    "collapsed": false
   },
   "outputs": [
    {
     "name": "stderr",
     "output_type": "stream",
     "text": [
      "/Users/jx/anaconda2/lib/python2.7/site-packages/matplotlib/font_manager.py:273: UserWarning: Matplotlib is building the font cache using fc-list. This may take a moment.\n",
      "  warnings.warn('Matplotlib is building the font cache using fc-list. This may take a moment.')\n",
      "Using Theano backend.\n"
     ]
    }
   ],
   "source": [
    "import numpy as np\n",
    "import scipy.io\n",
    "import matplotlib.pyplot as plt\n",
    "# import h5py\n",
    "np.random.seed(1337) # for reproducibility\n",
    "\n",
    "from keras.preprocessing import sequence\n",
    "from keras.optimizers import RMSprop\n",
    "from keras.models import Sequential\n",
    "from keras.layers.core import Dense, Dropout, Activation, Flatten\n",
    "from keras.layers.convolutional import Convolution1D,Convolution2D, MaxPooling1D, AtrousConvolution2D\n",
    "from keras.regularizers import l2, activity_l1\n",
    "from keras.constraints import maxnorm\n",
    "from keras.layers.recurrent import LSTM, GRU\n",
    "from keras.callbacks import ModelCheckpoint, EarlyStopping\n",
    "\n",
    "from keras.optimizers import Adam, SGD\n",
    "\n",
    "from keras import initializations\n",
    "\n",
    "# In[14]:\n",
    "\n",
    "def my_init(shape, name=None):\n",
    "    return initializations.normal(shape, scale=0.001, name=name)\n",
    "\n"
   ]
  },
  {
   "cell_type": "code",
   "execution_count": 2,
   "metadata": {
    "collapsed": false
   },
   "outputs": [
    {
     "name": "stdout",
     "output_type": "stream",
     "text": [
      "(35063, 113, 4)\n"
     ]
    }
   ],
   "source": [
    "import numpy as np\n",
    "import scipy.io\n",
    "import matplotlib.pyplot as plt\n",
    "# import h5py\n",
    "np.random.seed(1337) # for reproducibility\n",
    "\n",
    "from keras.preprocessing import sequence\n",
    "from keras.optimizers import RMSprop\n",
    "from keras.models import Sequential\n",
    "from keras.layers.core import Dense, Dropout, Activation, Flatten\n",
    "from keras.layers.convolutional import Convolution1D,Convolution2D, MaxPooling1D\n",
    "from keras.regularizers import l2, activity_l1\n",
    "from keras.constraints import maxnorm\n",
    "from keras.layers.recurrent import LSTM, GRU\n",
    "from keras.callbacks import ModelCheckpoint, EarlyStopping\n",
    "\n",
    "from keras.optimizers import Adam, SGD\n",
    "\n",
    "from keras import initializations\n",
    "\n",
    "# In[14]:\n",
    "\n",
    "def my_init(shape, name=None):\n",
    "    return initializations.normal(shape, scale=0.001, name=name)\n",
    "\n",
    "\n",
    "#Load data directly from file\n",
    "f = open('goodmus.txt', 'r')\n",
    "y = []\n",
    "for line in f:\n",
    "\ty.append(float(line))\n",
    "\n",
    "f = open('goodseqs.txt', 'r')\n",
    "seqs = []\n",
    "for line in f:\n",
    "\tseqs.append(line.strip('\\n'))\n",
    "\n",
    "# ATGC to one hot encoding\n",
    "seq_map = {'A': np.array([1,0,0,0]), 'T': np.array([0,1,0,0]), 'G': np.array([0,0,1,0]), 'C': np.array([0,0,0,1])}\n",
    "\n",
    "#sequences to matrix form\n",
    "X = []\n",
    "for seq in seqs:\n",
    "\tX.append(np.vstack([seq_map[s] for s in seq]))\n",
    "\n",
    "# zero pad sequences (end)\n",
    "max_len = 0\n",
    "for s in X:\n",
    "\tif len(s)>max_len:\n",
    "\t\tmax_len = len(s)\n",
    "for i in range(len(X)):\n",
    "\tp = max_len - X[i].shape[0]\n",
    "\tif p>0:\n",
    "\t\tX[i] = np.vstack([X[i], np.zeros((p,4))])\n",
    "\n",
    "X= np.asarray(X)\n",
    "y = np.asarray(y)\n",
    "print X.shape\n"
   ]
  },
  {
   "cell_type": "code",
   "execution_count": 3,
   "metadata": {
    "collapsed": false
   },
   "outputs": [
    {
     "name": "stdout",
     "output_type": "stream",
     "text": [
      "(28050, 4, 1, 113)\n"
     ]
    }
   ],
   "source": [
    "#shuffle indices...not data!\n",
    "idx = range(len(X))\n",
    "np.random.shuffle(idx)\n",
    "train_idx = idx[:int(len(X)*.8)]\n",
    "valid_idx = idx[int(len(X)*.8):int(len(X)*.9)]\n",
    "\n",
    "#split into train/valid\n",
    "X_train = X[train_idx]\n",
    "X_valid = X[int(len(X)*.8):int(len(X)*.9)]\n",
    "X_test = X[int(len(X)*.9):]\n",
    "\n",
    "y_train = y[:int(len(X)*.8)]\n",
    "y_valid = y[int(len(X)*.8):int(len(X)*.9)]\n",
    "y_test = y[int(len(X)*.9):]\n",
    "\n",
    "X_train = np.reshape(X_train, (X_train.shape[0], X_train.shape[2], 1, X_train.shape[1])) #(N, F, H, W)\n",
    "X_valid = np.reshape(X_valid, (X_valid.shape[0], X_valid.shape[2], 1, X_valid.shape[1])) #(N, F, H, W)\n",
    "X_test = np.reshape(X_test, (X_test.shape[0], X_test.shape[2], 1, X_test.shape[1])) #(N, F, H, W)\n",
    "\n",
    "print X_train.shape\n"
   ]
  },
  {
   "cell_type": "code",
   "execution_count": 9,
   "metadata": {
    "collapsed": false
   },
   "outputs": [
    {
     "ename": "SyntaxError",
     "evalue": "invalid syntax (<ipython-input-9-30718f26b718>, line 6)",
     "output_type": "error",
     "traceback": [
      "\u001b[0;36m  File \u001b[0;32m\"<ipython-input-9-30718f26b718>\"\u001b[0;36m, line \u001b[0;32m6\u001b[0m\n\u001b[0;31m    model.add(AtrousConvolution2D(128, 4, 4,atrous_rate=(2,2) border_mode='same', input_shape=(X_train.shape[1], 1, X_train.shape[3]), W_regularizer=l2(reg), init=my_init))\u001b[0m\n\u001b[0m                                                                        ^\u001b[0m\n\u001b[0;31mSyntaxError\u001b[0m\u001b[0;31m:\u001b[0m invalid syntax\n"
     ]
    }
   ],
   "source": [
    "lr = 1e-4#learning rate\n",
    "reg = 1e-6\n",
    "\n",
    "print 'building model'\n",
    "model = Sequential()\n",
    "model.add(AtrousConvolution2D(128, 4, 4,atrous_rate=(2,2) border_mode='same', input_shape=(X_train.shape[1], 1, X_train.shape[3]), W_regularizer=l2(reg), init=my_init))\n",
    "model.add(Activation('tanh'))\n",
    "# model.add(AtrousConvolution2D(256, 4, 4,atrous_rate=(2,2) border_mode='same', W_regularizer=l2(reg), init=my_init))\n",
    "# model.add(Activation('tanh'))\n",
    "# model.add(AtrousConvolution2D(512, 4, 4,atrous_rate=(2,2) border_mode='same', W_regularizer=l2(reg), init=my_init))\n",
    "# model.add(Activation('tanh'))\n",
    "# model.add(Flatten())\n",
    "\n",
    "# model.add(Dense(1000))\n",
    "# model.add(Dense(1))\n",
    "# model.add(Activation('tanh')) #[-1, 1]\n",
    "\n",
    "\n",
    "# In[17]:\n",
    "adam = Adam(lr=lr, beta_1=0.9, beta_2=0.999, epsilon=1e-08, decay=0.0)\n",
    "\n",
    "# sgd = SGD(lr=lr, momentum=0.9)\n",
    "model.compile(loss='mse',\n",
    "              optimizer='adam', metrics=['mse'])\n",
    "\n",
    "\n",
    "print 'compiling model'"
   ]
  },
  {
   "cell_type": "markdown",
   "metadata": {
    "collapsed": false
   },
   "source": [
    "earlystopper = EarlyStopping(monitor='val_loss', patience=2, verbose=1)\n",
    "model.fit(X_train, y_train,nb_epoch=3, batch_size=512, verbose=1, show_accuracy=True, validation_data=(X_valid, y_valid),callbacks=[earlystopper])\n",
    "\n"
   ]
  },
  {
   "cell_type": "code",
   "execution_count": 20,
   "metadata": {
    "collapsed": false
   },
   "outputs": [
    {
     "name": "stdout",
     "output_type": "stream",
     "text": [
      "Using matplotlib backend: MacOSX\n",
      "3507/3507 [==============================] - 22s    \n",
      "____________________________________________________________________________________________________\n",
      "Layer (type)                     Output Shape          Param #     Connected to                     \n",
      "====================================================================================================\n",
      "convolution2d_7 (Convolution2D)  (None, 128, 1, 113)   8320        convolution2d_input_3[0][0]      \n",
      "____________________________________________________________________________________________________\n",
      "activation_9 (Activation)        (None, 128, 1, 113)   0           convolution2d_7[0][0]            \n",
      "____________________________________________________________________________________________________\n",
      "convolution2d_8 (Convolution2D)  (None, 256, 1, 113)   524544      activation_9[0][0]               \n",
      "____________________________________________________________________________________________________\n",
      "activation_10 (Activation)       (None, 256, 1, 113)   0           convolution2d_8[0][0]            \n",
      "____________________________________________________________________________________________________\n",
      "convolution2d_9 (Convolution2D)  (None, 512, 1, 113)   2097664     activation_10[0][0]              \n",
      "____________________________________________________________________________________________________\n",
      "activation_11 (Activation)       (None, 512, 1, 113)   0           convolution2d_9[0][0]            \n",
      "____________________________________________________________________________________________________\n",
      "flatten_3 (Flatten)              (None, 57856)         0           activation_11[0][0]              \n",
      "____________________________________________________________________________________________________\n",
      "dense_5 (Dense)                  (None, 1000)          57857000    flatten_3[0][0]                  \n",
      "____________________________________________________________________________________________________\n",
      "dense_6 (Dense)                  (None, 1)             1001        dense_5[0][0]                    \n",
      "____________________________________________________________________________________________________\n",
      "activation_12 (Activation)       (None, 1)             0           dense_6[0][0]                    \n",
      "====================================================================================================\n",
      "Total params: 60488529\n",
      "____________________________________________________________________________________________________\n"
     ]
    }
   ],
   "source": [
    "%matplotlib \n",
    "\n",
    "out=model.predict(X_test, batch_size=512, verbose=1)\n",
    "plt.plot(y_test,out,'ro')\n",
    "\n",
    "model.summary()\n"
   ]
  },
  {
   "cell_type": "code",
   "execution_count": null,
   "metadata": {
    "collapsed": true
   },
   "outputs": [],
   "source": []
  }
 ],
 "metadata": {
  "anaconda-cloud": {},
  "kernelspec": {
   "display_name": "Python [Root]",
   "language": "python",
   "name": "Python [Root]"
  },
  "language_info": {
   "codemirror_mode": {
    "name": "ipython",
    "version": 2
   },
   "file_extension": ".py",
   "mimetype": "text/x-python",
   "name": "python",
   "nbconvert_exporter": "python",
   "pygments_lexer": "ipython2",
   "version": "2.7.12"
  }
 },
 "nbformat": 4,
 "nbformat_minor": 0
}

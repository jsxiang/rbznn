{
 "cells": [
  {
   "cell_type": "code",
   "execution_count": 39,
   "metadata": {
    "collapsed": false
   },
   "outputs": [],
   "source": [
    "\n",
    "# coding: utf-8\n",
    "\n",
    "# In[13]:\n",
    "\n",
    "import numpy as np\n",
    "import scipy.io\n",
    "# import h5py\n",
    "np.random.seed(1337) # for reproducibility\n",
    "import matplotlib.pyplot as plt\n",
    "\n",
    "from keras.preprocessing import sequence\n",
    "from keras.optimizers import RMSprop\n",
    "from keras.models import Sequential\n",
    "from keras.layers.core import Dense, Dropout, Activation, Flatten\n",
    "from keras.layers.convolutional import Convolution1D,Convolution2D, MaxPooling1D\n",
    "from keras.regularizers import l2, activity_l1\n",
    "from keras.constraints import maxnorm\n",
    "from keras.layers.recurrent import LSTM, GRU\n",
    "from keras.callbacks import ModelCheckpoint, EarlyStopping\n",
    "\n",
    "from keras.optimizers import Adam, SGD\n",
    "\n",
    "from keras import initializations\n",
    "\n",
    "# In[14]:\n",
    "\n",
    "def my_init(shape, name=None):\n",
    "    return initializations.normal(shape, scale=0.001, name=name)\n"
   ]
  },
  {
   "cell_type": "code",
   "execution_count": 28,
   "metadata": {
    "collapsed": false
   },
   "outputs": [
    {
     "name": "stdout",
     "output_type": "stream",
     "text": [
      "(8536, 110, 4)\n",
      "(8536,)\n"
     ]
    }
   ],
   "source": [
    "\n",
    "#Load data directly from file\n",
    "f = open('goodmusBinary.txt', 'r')\n",
    "y = []\n",
    "for line in f:\n",
    "\ty.append(float(line))\n",
    "\n",
    "f = open('goodseqsBinary.txt', 'r')\n",
    "seqs = []\n",
    "for line in f:\n",
    "\tseqs.append(line.strip('\\n'))\n",
    "\n",
    "# ATGC to one hot encoding\n",
    "seq_map = {'A': np.array([1,0,0,0]), 'T': np.array([0,1,0,0]), 'G': np.array([0,0,1,0]), 'C': np.array([0,0,0,1])}\n",
    "\n",
    "#sequences to matrix form\n",
    "X = []\n",
    "for seq in seqs:\n",
    "\tX.append(np.vstack([seq_map[s] for s in seq]))\n",
    "\n",
    "# zero pad sequences (end)\n",
    "max_len = 0\n",
    "for s in X:\n",
    "\tif len(s)>max_len:\n",
    "\t\tmax_len = len(s)\n",
    "for i in range(len(X)):\n",
    "\tp = max_len - X[i].shape[0]\n",
    "\tif p>0:\n",
    "\t\tX[i] = np.vstack([X[i], np.zeros((p,4))])\n",
    "\n",
    "X= np.asarray(X)\n",
    "y = np.asarray(y)\n",
    "print X.shape\n",
    "print y.shape"
   ]
  },
  {
   "cell_type": "code",
   "execution_count": 29,
   "metadata": {
    "collapsed": false
   },
   "outputs": [
    {
     "name": "stdout",
     "output_type": "stream",
     "text": [
      "(7255, 4, 1, 110)\n",
      "(7255,)\n"
     ]
    }
   ],
   "source": [
    "\n",
    "#shuffle indices...not data!\n",
    "idx = range(len(X))\n",
    "np.random.shuffle(idx)\n",
    "train_idx = idx[:int(len(X)*.85)]\n",
    "test_idx = idx[int(len(X)*.85):]\n",
    "\n",
    "#split into train/test\n",
    "X_train = X[train_idx]\n",
    "X_test = X[int(len(X)*.85):]\n",
    "y_train = y[:int(len(X)*.85)]\n",
    "y_test = y[int(len(X)*.85):]\n",
    "\n",
    "X_train = np.reshape(X_train, (X_train.shape[0], X_train.shape[2], 1, X_train.shape[1])) #(N, F, H, W)\n",
    "X_test = np.reshape(X_test, (X_test.shape[0], X_test.shape[2], 1, X_test.shape[1])) #(N, F, H, W)\n",
    "\n",
    "print X_train.shape\n",
    "print y_train.shape"
   ]
  },
  {
   "cell_type": "code",
   "execution_count": 30,
   "metadata": {
    "collapsed": false
   },
   "outputs": [
    {
     "name": "stdout",
     "output_type": "stream",
     "text": [
      "building model\n",
      "compiling model\n"
     ]
    }
   ],
   "source": [
    "lr = 1e-5#learning rate\n",
    "reg = 1e-6\n",
    "\n",
    "print 'building model'\n",
    "model = Sequential()\n",
    "model.add(Convolution2D(128, 4, 4, border_mode='same', input_shape=(X_train.shape[1], 1, X_train.shape[3]), W_regularizer=l2(reg), init=my_init))\n",
    "model.add(Activation('relu'))\n",
    "model.add(Convolution2D(256, 4, 4, border_mode='same', W_regularizer=l2(reg), init=my_init))\n",
    "model.add(Activation('relu'))\n",
    "model.add(Convolution2D(512, 4, 4, border_mode='same', W_regularizer=l2(reg), init=my_init))\n",
    "model.add(Activation('relu'))\n",
    "model.add(Flatten())\n",
    "\n",
    "model.add(Dense(1000))\n",
    "model.add(Dense(1))\n",
    "model.add(Activation('softmax')) #[-1, 1]\n",
    "\n",
    "\n",
    "# In[17]:\n",
    "adam = Adam(lr=lr, beta_1=0.9, beta_2=0.999, epsilon=1e-08, decay=0.0)\n",
    "\n",
    "# sgd = SGD(lr=lr, momentum=0.9)\n",
    "# model.compile(loss='mse',\n",
    "#               optimizer='adam', metrics=['mse'])\n",
    "model.compile(loss='binary_crossentropy', optimizer='adam', metrics=[\"accuracy\"])\n",
    "\n",
    "\n",
    "print 'compiling model'"
   ]
  },
  {
   "cell_type": "code",
   "execution_count": 31,
   "metadata": {
    "collapsed": false
   },
   "outputs": [
    {
     "name": "stdout",
     "output_type": "stream",
     "text": [
      "Train on 7255 samples, validate on 1281 samples\n",
      "Epoch 1/5\n",
      "7255/7255 [==============================] - 124s - loss: 8.0053 - acc: 0.4979 - val_loss: 7.7783 - val_acc: 0.5121\n",
      "Epoch 2/5\n",
      "7255/7255 [==============================] - 120s - loss: 8.0053 - acc: 0.4979 - val_loss: 7.7783 - val_acc: 0.5121\n",
      "Epoch 3/5\n",
      "7255/7255 [==============================] - 123s - loss: 8.0053 - acc: 0.4979 - val_loss: 7.7783 - val_acc: 0.5121\n",
      "Epoch 4/5\n",
      "7255/7255 [==============================] - 126s - loss: 8.0053 - acc: 0.4979 - val_loss: 7.7783 - val_acc: 0.5121\n",
      "Epoch 5/5\n",
      "7255/7255 [==============================] - 120s - loss: 8.0053 - acc: 0.4979 - val_loss: 7.7783 - val_acc: 0.5121\n"
     ]
    },
    {
     "data": {
      "text/plain": [
       "<keras.callbacks.History at 0x11241ed90>"
      ]
     },
     "execution_count": 31,
     "metadata": {},
     "output_type": "execute_result"
    }
   ],
   "source": [
    "# earlystopper = EarlyStopping(monitor='val_loss', patience=5, verbose=1)\n",
    "model.fit(X_train, y_train,nb_epoch=5, batch_size=1024, verbose=1, show_accuracy=True, validation_data=(X_test, y_test))\n"
   ]
  },
  {
   "cell_type": "code",
   "execution_count": 36,
   "metadata": {
    "collapsed": false
   },
   "outputs": [
    {
     "name": "stdout",
     "output_type": "stream",
     "text": [
      "1281/1281 [==============================] - 7s     \n"
     ]
    },
    {
     "data": {
      "text/plain": [
       "[7.7782907731639135, 0.51209992193598752]"
      ]
     },
     "execution_count": 36,
     "metadata": {},
     "output_type": "execute_result"
    }
   ],
   "source": [
    "model.evaluate(X_test,y_test,show_accuracy=True)\n"
   ]
  },
  {
   "cell_type": "code",
   "execution_count": 40,
   "metadata": {
    "collapsed": false
   },
   "outputs": [
    {
     "name": "stdout",
     "output_type": "stream",
     "text": [
      "Using matplotlib backend: MacOSX\n",
      "1281/1281 [==============================] - 6s     \n"
     ]
    },
    {
     "data": {
      "text/plain": [
       "[<matplotlib.lines.Line2D at 0x11f363b10>]"
      ]
     },
     "execution_count": 40,
     "metadata": {},
     "output_type": "execute_result"
    }
   ],
   "source": [
    "%matplotlib\n",
    "out=model.predict(X_test, batch_size=512, verbose=1)\n",
    "plt.plot(y_test,out,'ro')"
   ]
  },
  {
   "cell_type": "code",
   "execution_count": null,
   "metadata": {
    "collapsed": true
   },
   "outputs": [],
   "source": []
  }
 ],
 "metadata": {
  "kernelspec": {
   "display_name": "Python [Root]",
   "language": "python",
   "name": "Python [Root]"
  },
  "language_info": {
   "codemirror_mode": {
    "name": "ipython",
    "version": 2
   },
   "file_extension": ".py",
   "mimetype": "text/x-python",
   "name": "python",
   "nbconvert_exporter": "python",
   "pygments_lexer": "ipython2",
   "version": "2.7.12"
  }
 },
 "nbformat": 4,
 "nbformat_minor": 0
}

{
 "cells": [
  {
   "cell_type": "code",
   "execution_count": 1,
   "metadata": {
    "collapsed": false
   },
   "outputs": [
    {
     "name": "stderr",
     "output_type": "stream",
     "text": [
      "Using Theano backend.\n"
     ]
    }
   ],
   "source": [
    "import numpy as np\n",
    "import h5py\n",
    "import scipy.io\n",
    "# np.random.seed(1337) # for reproducibility\n",
    "\n",
    "from keras.preprocessing import sequence\n",
    "from keras.optimizers import RMSprop\n",
    "from keras.models import Sequential\n",
    "from keras.layers.core import Dense, Dropout, Activation, Flatten\n",
    "from keras.layers.convolutional import Convolution1D,Convolution2D, MaxPooling1D\n",
    "from keras.regularizers import l2, activity_l1\n",
    "from keras.constraints import maxnorm\n",
    "from keras.layers.recurrent import LSTM, GRU\n",
    "from keras.callbacks import ModelCheckpoint, EarlyStopping\n",
    "\n",
    "from keras.optimizers import Adam, SGD\n",
    "\n",
    "from keras import initializations\n",
    "\n",
    "def my_init(shape, name=None):\n",
    "    return initializations.normal(shape, scale=0.001, name=name)\n",
    "\n"
   ]
  },
  {
   "cell_type": "code",
   "execution_count": 2,
   "metadata": {
    "collapsed": false
   },
   "outputs": [
    {
     "name": "stdout",
     "output_type": "stream",
     "text": [
      "(28453, 225, 20)\n"
     ]
    }
   ],
   "source": [
    "#Load data directly from file\n",
    "f = open('goodmus.txt', 'r')\n",
    "y = []\n",
    "for line in f:\n",
    "\ty.append(float(line))\n",
    "\n",
    "f = open('goodseqs.txt', 'r')\n",
    "seqs = []\n",
    "for line in f:\n",
    "\tseqs.append(line.strip('\\n'))\n",
    "\n",
    "# ATGC to one hot encoding\n",
    "seq_map = {'A': np.array([1,0,0,0,0,0,0,0,0,0,0,0,0,0,0,0,0,0,0,0]), \n",
    "           'T': np.array([0,1,0,0,0,0,0,0,0,0,0,0,0,0,0,0,0,0,0,0]), \n",
    "           'G': np.array([0,0,1,0,0,0,0,0,0,0,0,0,0,0,0,0,0,0,0,0]), \n",
    "           'C': np.array([0,0,0,1,0,0,0,0,0,0,0,0,0,0,0,0,0,0,0,0]),\n",
    "           'AA': np.array([0,0,0,0,1,0,0,0,0,0,0,0,0,0,0,0,0,0,0,0]), \n",
    "           'TA': np.array([0,0,0,0,0,1,0,0,0,0,0,0,0,0,0,0,0,0,0,0]), \n",
    "           'GA': np.array([0,0,0,0,0,0,1,0,0,0,0,0,0,0,0,0,0,0,0,0]), \n",
    "           'CA': np.array([0,0,0,0,0,0,0,1,0,0,0,0,0,0,0,0,0,0,0,0]),\n",
    "           'AT': np.array([0,0,0,0,0,0,0,0,1,0,0,0,0,0,0,0,0,0,0,0]), \n",
    "           'TT': np.array([0,0,0,0,0,0,0,0,0,1,0,0,0,0,0,0,0,0,0,0]), \n",
    "           'GT': np.array([0,0,0,0,0,0,0,0,0,0,1,0,0,0,0,0,0,0,0,0]), \n",
    "           'CT': np.array([0,0,0,0,0,0,0,0,0,0,0,1,0,0,0,0,0,0,0,0]),\n",
    "           'AC': np.array([0,0,0,0,0,0,0,0,0,0,0,0,1,0,0,0,0,0,0,0]), \n",
    "           'TC': np.array([0,0,0,0,0,0,0,0,0,0,0,0,0,1,0,0,0,0,0,0]), \n",
    "           'GC': np.array([0,0,0,0,0,0,0,0,0,0,0,0,0,0,1,0,0,0,0,0]), \n",
    "           'CC': np.array([0,0,0,0,0,0,0,0,0,0,0,0,0,0,0,1,0,0,0,0]),\n",
    "           'AG': np.array([0,0,0,0,0,0,0,0,0,0,0,0,0,0,0,0,1,0,0,0]), \n",
    "           'TG': np.array([0,0,0,0,0,0,0,0,0,0,0,0,0,0,0,0,0,1,0,0]), \n",
    "           'GG': np.array([0,0,0,0,0,0,0,0,0,0,0,0,0,0,0,0,0,0,1,0]), \n",
    "           'CG': np.array([0,0,0,0,0,0,0,0,0,0,0,0,0,0,0,0,0,0,0,1])\n",
    "          }\n",
    "\n",
    "#sequences to matrix form\n",
    "X = []\n",
    "for seq in seqs:\n",
    "\tX.append(np.vstack([seq_map[s] for s in seq]))\n",
    "    \n",
    "for i in range(len(X)):\n",
    "    for j in range(len(seqs[i])-1):\n",
    "        X[i]=np.vstack([X[i],seq_map[seqs[i][j]+seqs[i][j+1]]])\n",
    "\n",
    "# zero pad sequences (end)\n",
    "max_len = 0\n",
    "for s in X:\n",
    "\tif len(s)>max_len:\n",
    "\t\tmax_len = len(s)\n",
    "for i in range(len(X)):\n",
    "\tp = max_len - X[i].shape[0]\n",
    "\tif p>0:\n",
    "\t\tX[i] = np.vstack([X[i], np.zeros((p,20))])\n",
    "\n",
    "X= np.asarray(X)\n",
    "y = np.asarray(y)\n",
    "print X.shape\n"
   ]
  },
  {
   "cell_type": "code",
   "execution_count": 3,
   "metadata": {
    "collapsed": false
   },
   "outputs": [
    {
     "name": "stdout",
     "output_type": "stream",
     "text": [
      "(24185, 20, 1, 225)\n"
     ]
    }
   ],
   "source": [
    "\n",
    "\n",
    "#shuffle indices...not data!\n",
    "idx = range(len(X))\n",
    "np.random.shuffle(idx)\n",
    "train_idx = idx[:int(len(X)*.85)]\n",
    "test_idx = idx[int(len(X)*.85):]\n",
    "\n",
    "#split into train/test\n",
    "X_train = X[train_idx]\n",
    "X_test = X[int(len(X)*.85):]\n",
    "y_train = y[:int(len(X)*.85)]\n",
    "y_test = y[int(len(X)*.85):]\n",
    "\n",
    "X_train = np.reshape(X_train, (X_train.shape[0], X_train.shape[2], 1, X_train.shape[1])) #(N, F, H, W)\n",
    "X_test = np.reshape(X_test, (X_test.shape[0], X_test.shape[2], 1, X_test.shape[1])) #(N, F, H, W)\n",
    "\n",
    "print X_train.shape"
   ]
  },
  {
   "cell_type": "code",
   "execution_count": 9,
   "metadata": {
    "collapsed": false
   },
   "outputs": [
    {
     "name": "stdout",
     "output_type": "stream",
     "text": [
      "building model\n",
      "compiling model\n"
     ]
    }
   ],
   "source": [
    "lr = 1e-4#learning rate\n",
    "reg = 1e-6\n",
    "\n",
    "print 'building model'\n",
    "model = Sequential()\n",
    "model.add(Convolution2D(128, 4, 4, border_mode='same', input_shape=(X_train.shape[1], X_train.shape[2], X_train.shape[3]), W_regularizer=l2(reg), init=my_init))\n",
    "model.add(Activation('relu'))\n",
    "model.add(Convolution2D(256, 4, 4, border_mode='same', W_regularizer=l2(reg), init=my_init))\n",
    "model.add(Activation('relu'))\n",
    "model.add(Convolution2D(512, 4, 4, border_mode='same', W_regularizer=l2(reg), init=my_init))\n",
    "model.add(Activation('relu'))\n",
    "model.add(Flatten())\n",
    "\n",
    "model.add(Dense(1000))\n",
    "model.add(Dense(1))\n",
    "model.add(Activation('tanh')) #[-1, 1]\n",
    "\n",
    "\n",
    "# In[17]:\n",
    "adam = Adam(lr=lr, beta_1=0.9, beta_2=0.999, epsilon=1e-08, decay=0.0)\n",
    "\n",
    "# sgd = SGD(lr=lr, momentum=0.9)\n",
    "model.compile(loss='mse',\n",
    "              optimizer='adam', metrics=['mse'])\n",
    "print 'compiling model'\n"
   ]
  },
  {
   "cell_type": "code",
   "execution_count": 10,
   "metadata": {
    "collapsed": false
   },
   "outputs": [
    {
     "name": "stderr",
     "output_type": "stream",
     "text": [
      "/Users/jx/anaconda2/lib/python2.7/site-packages/Keras-1.1.1-py2.7.egg/keras/models.py:625: UserWarning: The \"show_accuracy\" argument is deprecated, instead you should pass the \"accuracy\" metric to the model at compile time:\n",
      "`model.compile(optimizer, loss, metrics=[\"accuracy\"])`\n",
      "  warnings.warn('The \"show_accuracy\" argument is deprecated, '\n"
     ]
    },
    {
     "name": "stdout",
     "output_type": "stream",
     "text": [
      "Train on 29803 samples, validate on 5260 samples\n",
      "Epoch 1/1000\n",
      "29803/29803 [==============================] - 999s - loss: 0.5821 - mean_squared_error: 0.5821 - val_loss: 0.6163 - val_mean_squared_error: 0.6163\n",
      "Epoch 2/1000\n",
      "29803/29803 [==============================] - 992s - loss: 0.6165 - mean_squared_error: 0.6165 - val_loss: 0.6163 - val_mean_squared_error: 0.6163\n",
      "Epoch 3/1000\n",
      "16384/29803 [===============>..............] - ETA: 428s - loss: 0.6154 - mean_squared_error: 0.6153"
     ]
    },
    {
     "ename": "KeyboardInterrupt",
     "evalue": "",
     "output_type": "error",
     "traceback": [
      "\u001b[0;31m---------------------------------------------------------------------------\u001b[0m",
      "\u001b[0;31mKeyboardInterrupt\u001b[0m                         Traceback (most recent call last)",
      "\u001b[0;32m<ipython-input-10-6e25bb260961>\u001b[0m in \u001b[0;36m<module>\u001b[0;34m()\u001b[0m\n\u001b[1;32m      2\u001b[0m \u001b[0;31m# checkpointer = ModelCheckpoint(filepath=\"bestmodel.hdf5\", verbose=1, save_best_only=True)\u001b[0m\u001b[0;34m\u001b[0m\u001b[0;34m\u001b[0m\u001b[0m\n\u001b[1;32m      3\u001b[0m \u001b[0;31m# model.fit(X_train, y_train,nb_epoch=1000, batch_size=1024, verbose=1, show_accuracy=True, validation_data=(X_test, y_test),callbacks=[checkpointer,earlystopper])\u001b[0m\u001b[0;34m\u001b[0m\u001b[0;34m\u001b[0m\u001b[0m\n\u001b[0;32m----> 4\u001b[0;31m \u001b[0mmodel\u001b[0m\u001b[0;34m.\u001b[0m\u001b[0mfit\u001b[0m\u001b[0;34m(\u001b[0m\u001b[0mX_train\u001b[0m\u001b[0;34m,\u001b[0m \u001b[0my_train\u001b[0m\u001b[0;34m,\u001b[0m\u001b[0mnb_epoch\u001b[0m\u001b[0;34m=\u001b[0m\u001b[0;36m1000\u001b[0m\u001b[0;34m,\u001b[0m \u001b[0mbatch_size\u001b[0m\u001b[0;34m=\u001b[0m\u001b[0;36m1024\u001b[0m\u001b[0;34m,\u001b[0m \u001b[0mverbose\u001b[0m\u001b[0;34m=\u001b[0m\u001b[0;36m1\u001b[0m\u001b[0;34m,\u001b[0m \u001b[0mshow_accuracy\u001b[0m\u001b[0;34m=\u001b[0m\u001b[0mTrue\u001b[0m\u001b[0;34m,\u001b[0m \u001b[0mvalidation_data\u001b[0m\u001b[0;34m=\u001b[0m\u001b[0;34m(\u001b[0m\u001b[0mX_test\u001b[0m\u001b[0;34m,\u001b[0m \u001b[0my_test\u001b[0m\u001b[0;34m)\u001b[0m\u001b[0;34m)\u001b[0m\u001b[0;34m\u001b[0m\u001b[0m\n\u001b[0m",
      "\u001b[0;32m/Users/jx/anaconda2/lib/python2.7/site-packages/Keras-1.1.1-py2.7.egg/keras/models.pyc\u001b[0m in \u001b[0;36mfit\u001b[0;34m(self, x, y, batch_size, nb_epoch, verbose, callbacks, validation_split, validation_data, shuffle, class_weight, sample_weight, **kwargs)\u001b[0m\n\u001b[1;32m    640\u001b[0m                               \u001b[0mshuffle\u001b[0m\u001b[0;34m=\u001b[0m\u001b[0mshuffle\u001b[0m\u001b[0;34m,\u001b[0m\u001b[0;34m\u001b[0m\u001b[0m\n\u001b[1;32m    641\u001b[0m                               \u001b[0mclass_weight\u001b[0m\u001b[0;34m=\u001b[0m\u001b[0mclass_weight\u001b[0m\u001b[0;34m,\u001b[0m\u001b[0;34m\u001b[0m\u001b[0m\n\u001b[0;32m--> 642\u001b[0;31m                               sample_weight=sample_weight)\n\u001b[0m\u001b[1;32m    643\u001b[0m \u001b[0;34m\u001b[0m\u001b[0m\n\u001b[1;32m    644\u001b[0m     def evaluate(self, x, y, batch_size=32, verbose=1,\n",
      "\u001b[0;32m/Users/jx/anaconda2/lib/python2.7/site-packages/Keras-1.1.1-py2.7.egg/keras/engine/training.pyc\u001b[0m in \u001b[0;36mfit\u001b[0;34m(self, x, y, batch_size, nb_epoch, verbose, callbacks, validation_split, validation_data, shuffle, class_weight, sample_weight, initial_epoch)\u001b[0m\n\u001b[1;32m   1133\u001b[0m                               \u001b[0mval_f\u001b[0m\u001b[0;34m=\u001b[0m\u001b[0mval_f\u001b[0m\u001b[0;34m,\u001b[0m \u001b[0mval_ins\u001b[0m\u001b[0;34m=\u001b[0m\u001b[0mval_ins\u001b[0m\u001b[0;34m,\u001b[0m \u001b[0mshuffle\u001b[0m\u001b[0;34m=\u001b[0m\u001b[0mshuffle\u001b[0m\u001b[0;34m,\u001b[0m\u001b[0;34m\u001b[0m\u001b[0m\n\u001b[1;32m   1134\u001b[0m                               \u001b[0mcallback_metrics\u001b[0m\u001b[0;34m=\u001b[0m\u001b[0mcallback_metrics\u001b[0m\u001b[0;34m,\u001b[0m\u001b[0;34m\u001b[0m\u001b[0m\n\u001b[0;32m-> 1135\u001b[0;31m                               initial_epoch=initial_epoch)\n\u001b[0m\u001b[1;32m   1136\u001b[0m \u001b[0;34m\u001b[0m\u001b[0m\n\u001b[1;32m   1137\u001b[0m     \u001b[0;32mdef\u001b[0m \u001b[0mevaluate\u001b[0m\u001b[0;34m(\u001b[0m\u001b[0mself\u001b[0m\u001b[0;34m,\u001b[0m \u001b[0mx\u001b[0m\u001b[0;34m,\u001b[0m \u001b[0my\u001b[0m\u001b[0;34m,\u001b[0m \u001b[0mbatch_size\u001b[0m\u001b[0;34m=\u001b[0m\u001b[0;36m32\u001b[0m\u001b[0;34m,\u001b[0m \u001b[0mverbose\u001b[0m\u001b[0;34m=\u001b[0m\u001b[0;36m1\u001b[0m\u001b[0;34m,\u001b[0m \u001b[0msample_weight\u001b[0m\u001b[0;34m=\u001b[0m\u001b[0mNone\u001b[0m\u001b[0;34m)\u001b[0m\u001b[0;34m:\u001b[0m\u001b[0;34m\u001b[0m\u001b[0m\n",
      "\u001b[0;32m/Users/jx/anaconda2/lib/python2.7/site-packages/Keras-1.1.1-py2.7.egg/keras/engine/training.pyc\u001b[0m in \u001b[0;36m_fit_loop\u001b[0;34m(self, f, ins, out_labels, batch_size, nb_epoch, verbose, callbacks, val_f, val_ins, shuffle, callback_metrics, initial_epoch)\u001b[0m\n\u001b[1;32m    848\u001b[0m                 \u001b[0mbatch_logs\u001b[0m\u001b[0;34m[\u001b[0m\u001b[0;34m'size'\u001b[0m\u001b[0;34m]\u001b[0m \u001b[0;34m=\u001b[0m \u001b[0mlen\u001b[0m\u001b[0;34m(\u001b[0m\u001b[0mbatch_ids\u001b[0m\u001b[0;34m)\u001b[0m\u001b[0;34m\u001b[0m\u001b[0m\n\u001b[1;32m    849\u001b[0m                 \u001b[0mcallbacks\u001b[0m\u001b[0;34m.\u001b[0m\u001b[0mon_batch_begin\u001b[0m\u001b[0;34m(\u001b[0m\u001b[0mbatch_index\u001b[0m\u001b[0;34m,\u001b[0m \u001b[0mbatch_logs\u001b[0m\u001b[0;34m)\u001b[0m\u001b[0;34m\u001b[0m\u001b[0m\n\u001b[0;32m--> 850\u001b[0;31m                 \u001b[0mouts\u001b[0m \u001b[0;34m=\u001b[0m \u001b[0mf\u001b[0m\u001b[0;34m(\u001b[0m\u001b[0mins_batch\u001b[0m\u001b[0;34m)\u001b[0m\u001b[0;34m\u001b[0m\u001b[0m\n\u001b[0m\u001b[1;32m    851\u001b[0m                 \u001b[0;32mif\u001b[0m \u001b[0mtype\u001b[0m\u001b[0;34m(\u001b[0m\u001b[0mouts\u001b[0m\u001b[0;34m)\u001b[0m \u001b[0;34m!=\u001b[0m \u001b[0mlist\u001b[0m\u001b[0;34m:\u001b[0m\u001b[0;34m\u001b[0m\u001b[0m\n\u001b[1;32m    852\u001b[0m                     \u001b[0mouts\u001b[0m \u001b[0;34m=\u001b[0m \u001b[0;34m[\u001b[0m\u001b[0mouts\u001b[0m\u001b[0;34m]\u001b[0m\u001b[0;34m\u001b[0m\u001b[0m\n",
      "\u001b[0;32m/Users/jx/anaconda2/lib/python2.7/site-packages/Keras-1.1.1-py2.7.egg/keras/backend/theano_backend.pyc\u001b[0m in \u001b[0;36m__call__\u001b[0;34m(self, inputs)\u001b[0m\n\u001b[1;32m    809\u001b[0m     \u001b[0;32mdef\u001b[0m \u001b[0m__call__\u001b[0m\u001b[0;34m(\u001b[0m\u001b[0mself\u001b[0m\u001b[0;34m,\u001b[0m \u001b[0minputs\u001b[0m\u001b[0;34m)\u001b[0m\u001b[0;34m:\u001b[0m\u001b[0;34m\u001b[0m\u001b[0m\n\u001b[1;32m    810\u001b[0m         \u001b[0;32massert\u001b[0m \u001b[0mtype\u001b[0m\u001b[0;34m(\u001b[0m\u001b[0minputs\u001b[0m\u001b[0;34m)\u001b[0m \u001b[0;32min\u001b[0m \u001b[0;34m{\u001b[0m\u001b[0mlist\u001b[0m\u001b[0;34m,\u001b[0m \u001b[0mtuple\u001b[0m\u001b[0;34m}\u001b[0m\u001b[0;34m\u001b[0m\u001b[0m\n\u001b[0;32m--> 811\u001b[0;31m         \u001b[0;32mreturn\u001b[0m \u001b[0mself\u001b[0m\u001b[0;34m.\u001b[0m\u001b[0mfunction\u001b[0m\u001b[0;34m(\u001b[0m\u001b[0;34m*\u001b[0m\u001b[0minputs\u001b[0m\u001b[0;34m)\u001b[0m\u001b[0;34m\u001b[0m\u001b[0m\n\u001b[0m\u001b[1;32m    812\u001b[0m \u001b[0;34m\u001b[0m\u001b[0m\n\u001b[1;32m    813\u001b[0m \u001b[0;34m\u001b[0m\u001b[0m\n",
      "\u001b[0;32m/Users/jx/anaconda2/lib/python2.7/site-packages/theano/compile/function_module.pyc\u001b[0m in \u001b[0;36m__call__\u001b[0;34m(self, *args, **kwargs)\u001b[0m\n\u001b[1;32m    871\u001b[0m         \u001b[0;32mtry\u001b[0m\u001b[0;34m:\u001b[0m\u001b[0;34m\u001b[0m\u001b[0m\n\u001b[1;32m    872\u001b[0m             \u001b[0moutputs\u001b[0m \u001b[0;34m=\u001b[0m\u001b[0;31m\\\u001b[0m\u001b[0;34m\u001b[0m\u001b[0m\n\u001b[0;32m--> 873\u001b[0;31m                 \u001b[0mself\u001b[0m\u001b[0;34m.\u001b[0m\u001b[0mfn\u001b[0m\u001b[0;34m(\u001b[0m\u001b[0;34m)\u001b[0m \u001b[0;32mif\u001b[0m \u001b[0moutput_subset\u001b[0m \u001b[0;32mis\u001b[0m \u001b[0mNone\u001b[0m \u001b[0;32melse\u001b[0m\u001b[0;31m\\\u001b[0m\u001b[0;34m\u001b[0m\u001b[0m\n\u001b[0m\u001b[1;32m    874\u001b[0m                 \u001b[0mself\u001b[0m\u001b[0;34m.\u001b[0m\u001b[0mfn\u001b[0m\u001b[0;34m(\u001b[0m\u001b[0moutput_subset\u001b[0m\u001b[0;34m=\u001b[0m\u001b[0moutput_subset\u001b[0m\u001b[0;34m)\u001b[0m\u001b[0;34m\u001b[0m\u001b[0m\n\u001b[1;32m    875\u001b[0m         \u001b[0;32mexcept\u001b[0m \u001b[0mException\u001b[0m\u001b[0;34m:\u001b[0m\u001b[0;34m\u001b[0m\u001b[0m\n",
      "\u001b[0;31mKeyboardInterrupt\u001b[0m: "
     ]
    }
   ],
   "source": [
    "# earlystopper = EarlyStopping(monitor='val_loss', patience=3, verbose=1)\n",
    "# checkpointer = ModelCheckpoint(filepath=\"bestmodel.hdf5\", verbose=1, save_best_only=True)\n",
    "# model.fit(X_train, y_train,nb_epoch=1000, batch_size=1024, verbose=1, show_accuracy=True, validation_data=(X_test, y_test),callbacks=[checkpointer,earlystopper])\n",
    "model.fit(X_train, y_train,nb_epoch=1000, batch_size=512, verbose=1, show_accuracy=True, validation_data=(X_test, y_test))\n"
   ]
  },
  {
   "cell_type": "code",
   "execution_count": null,
   "metadata": {
    "collapsed": true
   },
   "outputs": [],
   "source": [
    "model.summary()\n"
   ]
  }
 ],
 "metadata": {
  "anaconda-cloud": {},
  "kernelspec": {
   "display_name": "Python [Root]",
   "language": "python",
   "name": "Python [Root]"
  },
  "language_info": {
   "codemirror_mode": {
    "name": "ipython",
    "version": 2
   },
   "file_extension": ".py",
   "mimetype": "text/x-python",
   "name": "python",
   "nbconvert_exporter": "python",
   "pygments_lexer": "ipython2",
   "version": "2.7.11"
  }
 },
 "nbformat": 4,
 "nbformat_minor": 0
}
